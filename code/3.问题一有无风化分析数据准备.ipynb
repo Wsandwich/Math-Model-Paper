{
 "cells": [
  {
   "cell_type": "code",
   "execution_count": 1,
   "metadata": {},
   "outputs": [],
   "source": [
    "# 引入数据处理包\n",
    "import numpy as np\n",
    "import pandas as pd"
   ]
  },
  {
   "cell_type": "code",
   "execution_count": 2,
   "metadata": {},
   "outputs": [
    {
     "data": {
      "text/html": [
       "<div>\n",
       "<style scoped>\n",
       "    .dataframe tbody tr th:only-of-type {\n",
       "        vertical-align: middle;\n",
       "    }\n",
       "\n",
       "    .dataframe tbody tr th {\n",
       "        vertical-align: top;\n",
       "    }\n",
       "\n",
       "    .dataframe thead th {\n",
       "        text-align: right;\n",
       "    }\n",
       "</style>\n",
       "<table border=\"1\" class=\"dataframe\">\n",
       "  <thead>\n",
       "    <tr style=\"text-align: right;\">\n",
       "      <th></th>\n",
       "      <th>文物采样点</th>\n",
       "      <th>二氧化硅(SiO2)</th>\n",
       "      <th>氧化钠(Na2O)</th>\n",
       "      <th>氧化钾(K2O)</th>\n",
       "      <th>氧化钙(CaO)</th>\n",
       "      <th>氧化镁(MgO)</th>\n",
       "      <th>氧化铝(Al2O3)</th>\n",
       "      <th>氧化铁(Fe2O3)</th>\n",
       "      <th>氧化铜(CuO)</th>\n",
       "      <th>氧化铅(PbO)</th>\n",
       "      <th>氧化钡(BaO)</th>\n",
       "      <th>五氧化二磷(P2O5)</th>\n",
       "      <th>氧化锶(SrO)</th>\n",
       "      <th>氧化锡(SnO2)</th>\n",
       "      <th>二氧化硫(SO2)</th>\n",
       "      <th>文物编号</th>\n",
       "      <th>纹饰</th>\n",
       "      <th>类型</th>\n",
       "      <th>颜色</th>\n",
       "      <th>表面风化</th>\n",
       "    </tr>\n",
       "  </thead>\n",
       "  <tbody>\n",
       "    <tr>\n",
       "      <th>0</th>\n",
       "      <td>01</td>\n",
       "      <td>69.33</td>\n",
       "      <td>0.0</td>\n",
       "      <td>9.99</td>\n",
       "      <td>6.32</td>\n",
       "      <td>0.87</td>\n",
       "      <td>3.93</td>\n",
       "      <td>1.74</td>\n",
       "      <td>3.87</td>\n",
       "      <td>0.00</td>\n",
       "      <td>0.0</td>\n",
       "      <td>1.17</td>\n",
       "      <td>0.00</td>\n",
       "      <td>0.0</td>\n",
       "      <td>0.39</td>\n",
       "      <td>1</td>\n",
       "      <td>C</td>\n",
       "      <td>高钾</td>\n",
       "      <td>蓝绿</td>\n",
       "      <td>无风化</td>\n",
       "    </tr>\n",
       "    <tr>\n",
       "      <th>1</th>\n",
       "      <td>02</td>\n",
       "      <td>36.28</td>\n",
       "      <td>0.0</td>\n",
       "      <td>1.05</td>\n",
       "      <td>2.34</td>\n",
       "      <td>1.18</td>\n",
       "      <td>5.73</td>\n",
       "      <td>1.86</td>\n",
       "      <td>0.26</td>\n",
       "      <td>47.43</td>\n",
       "      <td>0.0</td>\n",
       "      <td>3.57</td>\n",
       "      <td>0.19</td>\n",
       "      <td>0.0</td>\n",
       "      <td>0.00</td>\n",
       "      <td>2</td>\n",
       "      <td>A</td>\n",
       "      <td>铅钡</td>\n",
       "      <td>浅蓝</td>\n",
       "      <td>风化</td>\n",
       "    </tr>\n",
       "  </tbody>\n",
       "</table>\n",
       "</div>"
      ],
      "text/plain": [
       "  文物采样点  二氧化硅(SiO2)  氧化钠(Na2O)  氧化钾(K2O)  氧化钙(CaO)  氧化镁(MgO)  氧化铝(Al2O3)  \\\n",
       "0    01       69.33        0.0      9.99      6.32      0.87        3.93   \n",
       "1    02       36.28        0.0      1.05      2.34      1.18        5.73   \n",
       "\n",
       "   氧化铁(Fe2O3)  氧化铜(CuO)  氧化铅(PbO)  氧化钡(BaO)  五氧化二磷(P2O5)  氧化锶(SrO)  氧化锡(SnO2)  \\\n",
       "0        1.74      3.87      0.00       0.0         1.17      0.00        0.0   \n",
       "1        1.86      0.26     47.43       0.0         3.57      0.19        0.0   \n",
       "\n",
       "   二氧化硫(SO2)  文物编号 纹饰  类型  颜色 表面风化  \n",
       "0       0.39     1  C  高钾  蓝绿  无风化  \n",
       "1       0.00     2  A  铅钡  浅蓝   风化  "
      ]
     },
     "execution_count": 2,
     "metadata": {},
     "output_type": "execute_result"
    }
   ],
   "source": [
    "# 引入问题一中处理后的数据\n",
    "data_deal = pd.read_excel(\"问题一填补后.xlsx\",index_col=0)\n",
    "data_deal.head(2)"
   ]
  },
  {
   "cell_type": "code",
   "execution_count": 3,
   "metadata": {},
   "outputs": [],
   "source": [
    "data_group = data_deal.groupby([\"类型\"])"
   ]
  },
  {
   "cell_type": "code",
   "execution_count": 4,
   "metadata": {},
   "outputs": [
    {
     "name": "stdout",
     "output_type": "stream",
     "text": [
      "Index(['文物采样点', '二氧化硅(SiO2)', '氧化钠(Na2O)', '氧化钾(K2O)', '氧化钙(CaO)', '氧化镁(MgO)',\n",
      "       '氧化铝(Al2O3)', '氧化铁(Fe2O3)', '氧化铜(CuO)', '氧化铅(PbO)', '氧化钡(BaO)',\n",
      "       '五氧化二磷(P2O5)', '氧化锶(SrO)', '氧化锡(SnO2)', '二氧化硫(SO2)', '文物编号', '纹饰', '类型',\n",
      "       '颜色', '表面风化'],\n",
      "      dtype='object')\n"
     ]
    }
   ],
   "source": [
    "data_J = data_group.get_group((\"高钾\"))\n",
    "data_Q = data_group.get_group((\"铅钡\"))\n",
    "print(data_J.columns)"
   ]
  },
  {
   "cell_type": "code",
   "execution_count": 5,
   "metadata": {},
   "outputs": [
    {
     "data": {
      "text/plain": [
       "Index(['二氧化硅(SiO2)', '氧化钠(Na2O)', '氧化钾(K2O)', '氧化钙(CaO)', '氧化镁(MgO)',\n",
       "       '氧化铝(Al2O3)', '氧化铁(Fe2O3)', '氧化铜(CuO)', '氧化铅(PbO)', '氧化钡(BaO)',\n",
       "       '五氧化二磷(P2O5)', '氧化锶(SrO)', '氧化锡(SnO2)', '二氧化硫(SO2)', '表面风化'],\n",
       "      dtype='object')"
      ]
     },
     "execution_count": 5,
     "metadata": {},
     "output_type": "execute_result"
    }
   ],
   "source": [
    "# 查看关键属性\n",
    "data_J_for = data_J.iloc[:,[1,2,3,4,5,6,7,8,9,10,11,12,13,14,-1]]\n",
    "data_Q_for = data_Q.iloc[:,[1,2,3,4,5,6,7,8,9,10,11,12,13,14,-1]]\n",
    "data_J_for.columns"
   ]
  },
  {
   "cell_type": "code",
   "execution_count": null,
   "metadata": {},
   "outputs": [],
   "source": [
    "# 分类后保存结果\n",
    "data_J.to_excel(\"高钾类.xlsx\")\n",
    "data_Q.to_excel(\"铅钡类.xlsx\")"
   ]
  },
  {
   "cell_type": "code",
   "execution_count": 6,
   "metadata": {},
   "outputs": [
    {
     "data": {
      "text/plain": [
       "['1_无风化_高钾',\n",
       " '2_无风化_铅钡',\n",
       " '3_风化_高钾',\n",
       " '4_风化_铅钡',\n",
       " '1_无风化_高钾_data',\n",
       " '2_无风化_铅钡_data',\n",
       " '3_风化_高钾_data',\n",
       " '4_风化_铅钡_data']"
      ]
     },
     "execution_count": 6,
     "metadata": {},
     "output_type": "execute_result"
    }
   ],
   "source": [
    "# 读取统计规律_检测点中的分类值\n",
    "excel_exm = pd.ExcelFile(\"问题一统计规律分析_检测点.xlsx\")\n",
    "excel_exm.sheet_names"
   ]
  },
  {
   "cell_type": "code",
   "execution_count": 9,
   "metadata": {},
   "outputs": [],
   "source": [
    "data_not_J_exm = pd.read_excel(excel_exm, \"1_无风化_高钾\",index_col=0)\n",
    "data_not_Q_exm = pd.read_excel(excel_exm, \"2_无风化_铅钡\", index_col=0)\n",
    "data_is_J_exm = pd.read_excel(excel_exm, \"3_风化_高钾\", index_col=0)\n",
    "data_is_Q_exm = pd.read_excel(excel_exm, \"4_风化_铅钡\", index_col=0)"
   ]
  },
  {
   "cell_type": "code",
   "execution_count": 13,
   "metadata": {},
   "outputs": [],
   "source": [
    "data_not_J_exm[\"检测点风化\"] = \"无风化\"\n",
    "data_not_Q_exm[\"检测点风化\"] = \"无风化\"\n",
    "data_is_J_exm[\"检测点风化\"] = \"风化\"\n",
    "data_is_Q_exm[\"检测点风化\"] = \"风化\""
   ]
  },
  {
   "cell_type": "code",
   "execution_count": 17,
   "metadata": {},
   "outputs": [],
   "source": [
    "# 连接同类型\n",
    "data_J_exm = pd.concat([data_not_J_exm, data_is_J_exm])\n",
    "data_Q_exm = pd.concat([data_not_Q_exm, data_is_Q_exm])"
   ]
  },
  {
   "cell_type": "code",
   "execution_count": 18,
   "metadata": {},
   "outputs": [],
   "source": [
    "# 记录结果\n",
    "data_J_exm.to_excel(\"高钾类_检测点.xlsx\")\n",
    "data_Q_exm.to_excel(\"铅钡类_检测点.xlsx\")"
   ]
  },
  {
   "cell_type": "code",
   "execution_count": 19,
   "metadata": {},
   "outputs": [],
   "source": [
    "excel_exm.close()"
   ]
  }
 ],
 "metadata": {
  "kernelspec": {
   "display_name": "Python 3.10.0 64-bit",
   "language": "python",
   "name": "python3"
  },
  "language_info": {
   "codemirror_mode": {
    "name": "ipython",
    "version": 3
   },
   "file_extension": ".py",
   "mimetype": "text/x-python",
   "name": "python",
   "nbconvert_exporter": "python",
   "pygments_lexer": "ipython3",
   "version": "3.10.0"
  },
  "orig_nbformat": 4,
  "vscode": {
   "interpreter": {
    "hash": "c040a702b832ff0913e13179ea7610807f61ebd7483f27db4f36432f764fcdb9"
   }
  }
 },
 "nbformat": 4,
 "nbformat_minor": 2
}
