{
 "cells": [
  {
   "cell_type": "code",
   "execution_count": 1,
   "metadata": {},
   "outputs": [],
   "source": [
    "# 数据处理包\n",
    "import numpy as np\n",
    "import pandas as pd\n",
    "\n",
    "# 引入回归分析包\n",
    "from sklearn.cross_decomposition import PLSRegression"
   ]
  },
  {
   "cell_type": "code",
   "execution_count": 2,
   "metadata": {},
   "outputs": [
    {
     "data": {
      "text/plain": [
       "['1_无风化_高钾',\n",
       " '2_无风化_铅钡',\n",
       " '3_风化_高钾',\n",
       " '4_风化_铅钡',\n",
       " '1_无风化_高钾_data',\n",
       " '2_无风化_铅钡_data',\n",
       " '3_风化_高钾_data',\n",
       " '4_风化_铅钡_data']"
      ]
     },
     "execution_count": 2,
     "metadata": {},
     "output_type": "execute_result"
    }
   ],
   "source": [
    "# 获取经过处理后的数据用于匹配\n",
    "excel_exm = pd.ExcelFile(\"问题一统计规律分析_检测点.xlsx\")\n",
    "excel_exm.sheet_names"
   ]
  },
  {
   "cell_type": "code",
   "execution_count": 3,
   "metadata": {},
   "outputs": [],
   "source": [
    "data_not_J_exm = pd.read_excel(excel_exm, \"1_无风化_高钾\",index_col=0)\n",
    "data_not_Q_exm = pd.read_excel(excel_exm, \"2_无风化_铅钡\", index_col=0)\n",
    "data_is_J_exm = pd.read_excel(excel_exm, \"3_风化_高钾\", index_col=0)\n",
    "data_is_Q_exm = pd.read_excel(excel_exm, \"4_风化_铅钡\", index_col=0)"
   ]
  },
  {
   "cell_type": "code",
   "execution_count": 4,
   "metadata": {},
   "outputs": [],
   "source": [
    "excel_exm.close()"
   ]
  },
  {
   "cell_type": "code",
   "execution_count": 6,
   "metadata": {},
   "outputs": [],
   "source": [
    "# 进行高钾玻璃匹配\n",
    "part_J = [\"二氧化硅(SiO2)\",\"氧化钾(K2O)\",\"氧化钙(CaO)\",\"氧化铝(Al2O3)\",\"氧化镁(MgO)\",\"氧化铁(Fe2O3)\",\"氧化铅(PbO)\",\"五氧化二磷(P2O5)\"]\n",
    "\n",
    "part_Q = [\"二氧化硅(SiO2)\",\"氧化钠(Na2O)\",\"氧化钙(CaO)\",\"氧化铝(Al2O3)\",\"氧化铅(PbO)\",\"五氧化二磷(P2O5)\"]"
   ]
  },
  {
   "cell_type": "code",
   "execution_count": 12,
   "metadata": {},
   "outputs": [],
   "source": [
    "# 元素\n",
    "part_J_not_data = data_not_J_exm.loc[:,part_J]\n",
    "part_J_is_data = data_is_J_exm.loc[:,part_J]"
   ]
  },
  {
   "cell_type": "code",
   "execution_count": 13,
   "metadata": {},
   "outputs": [
    {
     "data": {
      "text/html": [
       "<div>\n",
       "<style scoped>\n",
       "    .dataframe tbody tr th:only-of-type {\n",
       "        vertical-align: middle;\n",
       "    }\n",
       "\n",
       "    .dataframe tbody tr th {\n",
       "        vertical-align: top;\n",
       "    }\n",
       "\n",
       "    .dataframe thead th {\n",
       "        text-align: right;\n",
       "    }\n",
       "</style>\n",
       "<table border=\"1\" class=\"dataframe\">\n",
       "  <thead>\n",
       "    <tr style=\"text-align: right;\">\n",
       "      <th></th>\n",
       "      <th>二氧化硅(SiO2)</th>\n",
       "      <th>氧化钾(K2O)</th>\n",
       "      <th>氧化钙(CaO)</th>\n",
       "      <th>氧化铝(Al2O3)</th>\n",
       "      <th>氧化镁(MgO)</th>\n",
       "      <th>氧化铁(Fe2O3)</th>\n",
       "      <th>氧化铅(PbO)</th>\n",
       "      <th>五氧化二磷(P2O5)</th>\n",
       "    </tr>\n",
       "  </thead>\n",
       "  <tbody>\n",
       "    <tr>\n",
       "      <th>0</th>\n",
       "      <td>69.33</td>\n",
       "      <td>9.99</td>\n",
       "      <td>6.32</td>\n",
       "      <td>3.93</td>\n",
       "      <td>0.87</td>\n",
       "      <td>1.74</td>\n",
       "      <td>0.00</td>\n",
       "      <td>1.17</td>\n",
       "    </tr>\n",
       "    <tr>\n",
       "      <th>2</th>\n",
       "      <td>87.05</td>\n",
       "      <td>5.19</td>\n",
       "      <td>2.01</td>\n",
       "      <td>4.06</td>\n",
       "      <td>0.00</td>\n",
       "      <td>0.00</td>\n",
       "      <td>0.25</td>\n",
       "      <td>0.66</td>\n",
       "    </tr>\n",
       "  </tbody>\n",
       "</table>\n",
       "</div>"
      ],
      "text/plain": [
       "   二氧化硅(SiO2)  氧化钾(K2O)  氧化钙(CaO)  氧化铝(Al2O3)  氧化镁(MgO)  氧化铁(Fe2O3)  氧化铅(PbO)  \\\n",
       "0       69.33      9.99      6.32        3.93      0.87        1.74      0.00   \n",
       "2       87.05      5.19      2.01        4.06      0.00        0.00      0.25   \n",
       "\n",
       "   五氧化二磷(P2O5)  \n",
       "0         1.17  \n",
       "2         0.66  "
      ]
     },
     "execution_count": 13,
     "metadata": {},
     "output_type": "execute_result"
    }
   ],
   "source": [
    "part_J_not_data.head(2)"
   ]
  },
  {
   "cell_type": "code",
   "execution_count": 14,
   "metadata": {},
   "outputs": [
    {
     "data": {
      "text/html": [
       "<div>\n",
       "<style scoped>\n",
       "    .dataframe tbody tr th:only-of-type {\n",
       "        vertical-align: middle;\n",
       "    }\n",
       "\n",
       "    .dataframe tbody tr th {\n",
       "        vertical-align: top;\n",
       "    }\n",
       "\n",
       "    .dataframe thead th {\n",
       "        text-align: right;\n",
       "    }\n",
       "</style>\n",
       "<table border=\"1\" class=\"dataframe\">\n",
       "  <thead>\n",
       "    <tr style=\"text-align: right;\">\n",
       "      <th></th>\n",
       "      <th>二氧化硅(SiO2)</th>\n",
       "      <th>氧化钾(K2O)</th>\n",
       "      <th>氧化钙(CaO)</th>\n",
       "      <th>氧化铝(Al2O3)</th>\n",
       "      <th>氧化镁(MgO)</th>\n",
       "      <th>氧化铁(Fe2O3)</th>\n",
       "      <th>氧化铅(PbO)</th>\n",
       "      <th>五氧化二磷(P2O5)</th>\n",
       "    </tr>\n",
       "  </thead>\n",
       "  <tbody>\n",
       "    <tr>\n",
       "      <th>4</th>\n",
       "      <td>65.88</td>\n",
       "      <td>9.67</td>\n",
       "      <td>7.12</td>\n",
       "      <td>6.44</td>\n",
       "      <td>1.56</td>\n",
       "      <td>2.06</td>\n",
       "      <td>0.0</td>\n",
       "      <td>0.79</td>\n",
       "    </tr>\n",
       "    <tr>\n",
       "      <th>4</th>\n",
       "      <td>65.88</td>\n",
       "      <td>9.67</td>\n",
       "      <td>7.12</td>\n",
       "      <td>6.44</td>\n",
       "      <td>1.56</td>\n",
       "      <td>2.06</td>\n",
       "      <td>0.0</td>\n",
       "      <td>0.79</td>\n",
       "    </tr>\n",
       "    <tr>\n",
       "      <th>0</th>\n",
       "      <td>69.33</td>\n",
       "      <td>9.99</td>\n",
       "      <td>6.32</td>\n",
       "      <td>3.93</td>\n",
       "      <td>0.87</td>\n",
       "      <td>1.74</td>\n",
       "      <td>0.0</td>\n",
       "      <td>1.17</td>\n",
       "    </tr>\n",
       "    <tr>\n",
       "      <th>4</th>\n",
       "      <td>65.88</td>\n",
       "      <td>9.67</td>\n",
       "      <td>7.12</td>\n",
       "      <td>6.44</td>\n",
       "      <td>1.56</td>\n",
       "      <td>2.06</td>\n",
       "      <td>0.0</td>\n",
       "      <td>0.79</td>\n",
       "    </tr>\n",
       "    <tr>\n",
       "      <th>4</th>\n",
       "      <td>65.88</td>\n",
       "      <td>9.67</td>\n",
       "      <td>7.12</td>\n",
       "      <td>6.44</td>\n",
       "      <td>1.56</td>\n",
       "      <td>2.06</td>\n",
       "      <td>0.0</td>\n",
       "      <td>0.79</td>\n",
       "    </tr>\n",
       "    <tr>\n",
       "      <th>4</th>\n",
       "      <td>65.88</td>\n",
       "      <td>9.67</td>\n",
       "      <td>7.12</td>\n",
       "      <td>6.44</td>\n",
       "      <td>1.56</td>\n",
       "      <td>2.06</td>\n",
       "      <td>0.0</td>\n",
       "      <td>0.79</td>\n",
       "    </tr>\n",
       "  </tbody>\n",
       "</table>\n",
       "</div>"
      ],
      "text/plain": [
       "   二氧化硅(SiO2)  氧化钾(K2O)  氧化钙(CaO)  氧化铝(Al2O3)  氧化镁(MgO)  氧化铁(Fe2O3)  氧化铅(PbO)  \\\n",
       "4       65.88      9.67      7.12        6.44      1.56        2.06       0.0   \n",
       "4       65.88      9.67      7.12        6.44      1.56        2.06       0.0   \n",
       "0       69.33      9.99      6.32        3.93      0.87        1.74       0.0   \n",
       "4       65.88      9.67      7.12        6.44      1.56        2.06       0.0   \n",
       "4       65.88      9.67      7.12        6.44      1.56        2.06       0.0   \n",
       "4       65.88      9.67      7.12        6.44      1.56        2.06       0.0   \n",
       "\n",
       "   五氧化二磷(P2O5)  \n",
       "4         0.79  \n",
       "4         0.79  \n",
       "0         1.17  \n",
       "4         0.79  \n",
       "4         0.79  \n",
       "4         0.79  "
      ]
     },
     "execution_count": 14,
     "metadata": {},
     "output_type": "execute_result"
    }
   ],
   "source": [
    "# 对应策略\n",
    "cor_J = [3,3,0,3,3,3]\n",
    "part_J_not_data.iloc[cor_J,:]"
   ]
  },
  {
   "cell_type": "code",
   "execution_count": 35,
   "metadata": {},
   "outputs": [
    {
     "data": {
      "text/html": [
       "<div>\n",
       "<style scoped>\n",
       "    .dataframe tbody tr th:only-of-type {\n",
       "        vertical-align: middle;\n",
       "    }\n",
       "\n",
       "    .dataframe tbody tr th {\n",
       "        vertical-align: top;\n",
       "    }\n",
       "\n",
       "    .dataframe thead th {\n",
       "        text-align: right;\n",
       "    }\n",
       "</style>\n",
       "<table border=\"1\" class=\"dataframe\">\n",
       "  <thead>\n",
       "    <tr style=\"text-align: right;\">\n",
       "      <th></th>\n",
       "      <th>not_二氧化硅(SiO2)</th>\n",
       "      <th>not_氧化钾(K2O)</th>\n",
       "      <th>not_氧化钙(CaO)</th>\n",
       "      <th>not_氧化铝(Al2O3)</th>\n",
       "      <th>not_氧化镁(MgO)</th>\n",
       "      <th>not_氧化铁(Fe2O3)</th>\n",
       "      <th>not_氧化铅(PbO)</th>\n",
       "      <th>not_五氧化二磷(P2O5)</th>\n",
       "    </tr>\n",
       "  </thead>\n",
       "  <tbody>\n",
       "    <tr>\n",
       "      <th>0</th>\n",
       "      <td>65.88</td>\n",
       "      <td>9.67</td>\n",
       "      <td>7.12</td>\n",
       "      <td>6.44</td>\n",
       "      <td>1.56</td>\n",
       "      <td>2.06</td>\n",
       "      <td>0.0</td>\n",
       "      <td>0.79</td>\n",
       "    </tr>\n",
       "    <tr>\n",
       "      <th>1</th>\n",
       "      <td>65.88</td>\n",
       "      <td>9.67</td>\n",
       "      <td>7.12</td>\n",
       "      <td>6.44</td>\n",
       "      <td>1.56</td>\n",
       "      <td>2.06</td>\n",
       "      <td>0.0</td>\n",
       "      <td>0.79</td>\n",
       "    </tr>\n",
       "    <tr>\n",
       "      <th>2</th>\n",
       "      <td>69.33</td>\n",
       "      <td>9.99</td>\n",
       "      <td>6.32</td>\n",
       "      <td>3.93</td>\n",
       "      <td>0.87</td>\n",
       "      <td>1.74</td>\n",
       "      <td>0.0</td>\n",
       "      <td>1.17</td>\n",
       "    </tr>\n",
       "    <tr>\n",
       "      <th>3</th>\n",
       "      <td>65.88</td>\n",
       "      <td>9.67</td>\n",
       "      <td>7.12</td>\n",
       "      <td>6.44</td>\n",
       "      <td>1.56</td>\n",
       "      <td>2.06</td>\n",
       "      <td>0.0</td>\n",
       "      <td>0.79</td>\n",
       "    </tr>\n",
       "    <tr>\n",
       "      <th>4</th>\n",
       "      <td>65.88</td>\n",
       "      <td>9.67</td>\n",
       "      <td>7.12</td>\n",
       "      <td>6.44</td>\n",
       "      <td>1.56</td>\n",
       "      <td>2.06</td>\n",
       "      <td>0.0</td>\n",
       "      <td>0.79</td>\n",
       "    </tr>\n",
       "    <tr>\n",
       "      <th>5</th>\n",
       "      <td>65.88</td>\n",
       "      <td>9.67</td>\n",
       "      <td>7.12</td>\n",
       "      <td>6.44</td>\n",
       "      <td>1.56</td>\n",
       "      <td>2.06</td>\n",
       "      <td>0.0</td>\n",
       "      <td>0.79</td>\n",
       "    </tr>\n",
       "  </tbody>\n",
       "</table>\n",
       "</div>"
      ],
      "text/plain": [
       "   not_二氧化硅(SiO2)  not_氧化钾(K2O)  not_氧化钙(CaO)  not_氧化铝(Al2O3)  not_氧化镁(MgO)  \\\n",
       "0           65.88          9.67          7.12            6.44          1.56   \n",
       "1           65.88          9.67          7.12            6.44          1.56   \n",
       "2           69.33          9.99          6.32            3.93          0.87   \n",
       "3           65.88          9.67          7.12            6.44          1.56   \n",
       "4           65.88          9.67          7.12            6.44          1.56   \n",
       "5           65.88          9.67          7.12            6.44          1.56   \n",
       "\n",
       "   not_氧化铁(Fe2O3)  not_氧化铅(PbO)  not_五氧化二磷(P2O5)  \n",
       "0            2.06           0.0             0.79  \n",
       "1            2.06           0.0             0.79  \n",
       "2            1.74           0.0             1.17  \n",
       "3            2.06           0.0             0.79  \n",
       "4            2.06           0.0             0.79  \n",
       "5            2.06           0.0             0.79  "
      ]
     },
     "execution_count": 35,
     "metadata": {},
     "output_type": "execute_result"
    }
   ],
   "source": [
    "# index重置后合并\n",
    "part_J_is_data_fm = part_J_is_data.reset_index(drop=True).add_prefix(\"is_\")\n",
    "part_J_not_data_fm = part_J_not_data.iloc[cor_J,:].reset_index(drop=True).add_prefix(\"not_\")\n",
    "part_J_not_data_fm"
   ]
  },
  {
   "cell_type": "code",
   "execution_count": 37,
   "metadata": {},
   "outputs": [
    {
     "data": {
      "text/html": [
       "<div>\n",
       "<style scoped>\n",
       "    .dataframe tbody tr th:only-of-type {\n",
       "        vertical-align: middle;\n",
       "    }\n",
       "\n",
       "    .dataframe tbody tr th {\n",
       "        vertical-align: top;\n",
       "    }\n",
       "\n",
       "    .dataframe thead th {\n",
       "        text-align: right;\n",
       "    }\n",
       "</style>\n",
       "<table border=\"1\" class=\"dataframe\">\n",
       "  <thead>\n",
       "    <tr style=\"text-align: right;\">\n",
       "      <th></th>\n",
       "      <th>is_二氧化硅(SiO2)</th>\n",
       "      <th>is_氧化钾(K2O)</th>\n",
       "      <th>is_氧化钙(CaO)</th>\n",
       "      <th>is_氧化铝(Al2O3)</th>\n",
       "      <th>is_氧化镁(MgO)</th>\n",
       "      <th>is_氧化铁(Fe2O3)</th>\n",
       "      <th>is_氧化铅(PbO)</th>\n",
       "      <th>is_五氧化二磷(P2O5)</th>\n",
       "      <th>not_二氧化硅(SiO2)</th>\n",
       "      <th>not_氧化钾(K2O)</th>\n",
       "      <th>not_氧化钙(CaO)</th>\n",
       "      <th>not_氧化铝(Al2O3)</th>\n",
       "      <th>not_氧化镁(MgO)</th>\n",
       "      <th>not_氧化铁(Fe2O3)</th>\n",
       "      <th>not_氧化铅(PbO)</th>\n",
       "      <th>not_五氧化二磷(P2O5)</th>\n",
       "    </tr>\n",
       "  </thead>\n",
       "  <tbody>\n",
       "    <tr>\n",
       "      <th>0</th>\n",
       "      <td>92.63</td>\n",
       "      <td>0.00</td>\n",
       "      <td>1.07</td>\n",
       "      <td>1.98</td>\n",
       "      <td>0.0</td>\n",
       "      <td>0.17</td>\n",
       "      <td>0</td>\n",
       "      <td>0.61</td>\n",
       "      <td>65.88</td>\n",
       "      <td>9.67</td>\n",
       "      <td>7.12</td>\n",
       "      <td>6.44</td>\n",
       "      <td>1.56</td>\n",
       "      <td>2.06</td>\n",
       "      <td>0.0</td>\n",
       "      <td>0.79</td>\n",
       "    </tr>\n",
       "    <tr>\n",
       "      <th>1</th>\n",
       "      <td>95.02</td>\n",
       "      <td>0.59</td>\n",
       "      <td>0.62</td>\n",
       "      <td>1.32</td>\n",
       "      <td>0.0</td>\n",
       "      <td>0.32</td>\n",
       "      <td>0</td>\n",
       "      <td>0.35</td>\n",
       "      <td>65.88</td>\n",
       "      <td>9.67</td>\n",
       "      <td>7.12</td>\n",
       "      <td>6.44</td>\n",
       "      <td>1.56</td>\n",
       "      <td>2.06</td>\n",
       "      <td>0.0</td>\n",
       "      <td>0.79</td>\n",
       "    </tr>\n",
       "  </tbody>\n",
       "</table>\n",
       "</div>"
      ],
      "text/plain": [
       "   is_二氧化硅(SiO2)  is_氧化钾(K2O)  is_氧化钙(CaO)  is_氧化铝(Al2O3)  is_氧化镁(MgO)  \\\n",
       "0          92.63         0.00         1.07           1.98          0.0   \n",
       "1          95.02         0.59         0.62           1.32          0.0   \n",
       "\n",
       "   is_氧化铁(Fe2O3)  is_氧化铅(PbO)  is_五氧化二磷(P2O5)  not_二氧化硅(SiO2)  not_氧化钾(K2O)  \\\n",
       "0           0.17            0            0.61           65.88          9.67   \n",
       "1           0.32            0            0.35           65.88          9.67   \n",
       "\n",
       "   not_氧化钙(CaO)  not_氧化铝(Al2O3)  not_氧化镁(MgO)  not_氧化铁(Fe2O3)  not_氧化铅(PbO)  \\\n",
       "0          7.12            6.44          1.56            2.06           0.0   \n",
       "1          7.12            6.44          1.56            2.06           0.0   \n",
       "\n",
       "   not_五氧化二磷(P2O5)  \n",
       "0             0.79  \n",
       "1             0.79  "
      ]
     },
     "execution_count": 37,
     "metadata": {},
     "output_type": "execute_result"
    }
   ],
   "source": [
    "data_J_match = pd.concat([part_J_is_data_fm,part_J_not_data_fm],axis=1)\n",
    "data_J_match.head(2)"
   ]
  },
  {
   "cell_type": "code",
   "execution_count": 38,
   "metadata": {},
   "outputs": [],
   "source": [
    "data_J_match.to_excel(\"test_match.xlsx\")"
   ]
  },
  {
   "cell_type": "code",
   "execution_count": 79,
   "metadata": {},
   "outputs": [
    {
     "data": {
      "text/html": [
       "<style>#sk-container-id-10 {color: black;background-color: white;}#sk-container-id-10 pre{padding: 0;}#sk-container-id-10 div.sk-toggleable {background-color: white;}#sk-container-id-10 label.sk-toggleable__label {cursor: pointer;display: block;width: 100%;margin-bottom: 0;padding: 0.3em;box-sizing: border-box;text-align: center;}#sk-container-id-10 label.sk-toggleable__label-arrow:before {content: \"▸\";float: left;margin-right: 0.25em;color: #696969;}#sk-container-id-10 label.sk-toggleable__label-arrow:hover:before {color: black;}#sk-container-id-10 div.sk-estimator:hover label.sk-toggleable__label-arrow:before {color: black;}#sk-container-id-10 div.sk-toggleable__content {max-height: 0;max-width: 0;overflow: hidden;text-align: left;background-color: #f0f8ff;}#sk-container-id-10 div.sk-toggleable__content pre {margin: 0.2em;color: black;border-radius: 0.25em;background-color: #f0f8ff;}#sk-container-id-10 input.sk-toggleable__control:checked~div.sk-toggleable__content {max-height: 200px;max-width: 100%;overflow: auto;}#sk-container-id-10 input.sk-toggleable__control:checked~label.sk-toggleable__label-arrow:before {content: \"▾\";}#sk-container-id-10 div.sk-estimator input.sk-toggleable__control:checked~label.sk-toggleable__label {background-color: #d4ebff;}#sk-container-id-10 div.sk-label input.sk-toggleable__control:checked~label.sk-toggleable__label {background-color: #d4ebff;}#sk-container-id-10 input.sk-hidden--visually {border: 0;clip: rect(1px 1px 1px 1px);clip: rect(1px, 1px, 1px, 1px);height: 1px;margin: -1px;overflow: hidden;padding: 0;position: absolute;width: 1px;}#sk-container-id-10 div.sk-estimator {font-family: monospace;background-color: #f0f8ff;border: 1px dotted black;border-radius: 0.25em;box-sizing: border-box;margin-bottom: 0.5em;}#sk-container-id-10 div.sk-estimator:hover {background-color: #d4ebff;}#sk-container-id-10 div.sk-parallel-item::after {content: \"\";width: 100%;border-bottom: 1px solid gray;flex-grow: 1;}#sk-container-id-10 div.sk-label:hover label.sk-toggleable__label {background-color: #d4ebff;}#sk-container-id-10 div.sk-serial::before {content: \"\";position: absolute;border-left: 1px solid gray;box-sizing: border-box;top: 0;bottom: 0;left: 50%;z-index: 0;}#sk-container-id-10 div.sk-serial {display: flex;flex-direction: column;align-items: center;background-color: white;padding-right: 0.2em;padding-left: 0.2em;position: relative;}#sk-container-id-10 div.sk-item {position: relative;z-index: 1;}#sk-container-id-10 div.sk-parallel {display: flex;align-items: stretch;justify-content: center;background-color: white;position: relative;}#sk-container-id-10 div.sk-item::before, #sk-container-id-10 div.sk-parallel-item::before {content: \"\";position: absolute;border-left: 1px solid gray;box-sizing: border-box;top: 0;bottom: 0;left: 50%;z-index: -1;}#sk-container-id-10 div.sk-parallel-item {display: flex;flex-direction: column;z-index: 1;position: relative;background-color: white;}#sk-container-id-10 div.sk-parallel-item:first-child::after {align-self: flex-end;width: 50%;}#sk-container-id-10 div.sk-parallel-item:last-child::after {align-self: flex-start;width: 50%;}#sk-container-id-10 div.sk-parallel-item:only-child::after {width: 0;}#sk-container-id-10 div.sk-dashed-wrapped {border: 1px dashed gray;margin: 0 0.4em 0.5em 0.4em;box-sizing: border-box;padding-bottom: 0.4em;background-color: white;}#sk-container-id-10 div.sk-label label {font-family: monospace;font-weight: bold;display: inline-block;line-height: 1.2em;}#sk-container-id-10 div.sk-label-container {text-align: center;}#sk-container-id-10 div.sk-container {/* jupyter's `normalize.less` sets `[hidden] { display: none; }` but bootstrap.min.css set `[hidden] { display: none !important; }` so we also need the `!important` here to be able to override the default hidden behavior on the sphinx rendered scikit-learn.org. See: https://github.com/scikit-learn/scikit-learn/issues/21755 */display: inline-block !important;position: relative;}#sk-container-id-10 div.sk-text-repr-fallback {display: none;}</style><div id=\"sk-container-id-10\" class=\"sk-top-container\"><div class=\"sk-text-repr-fallback\"><pre>PLSRegression(n_components=5)</pre><b>In a Jupyter environment, please rerun this cell to show the HTML representation or trust the notebook. <br />On GitHub, the HTML representation is unable to render, please try loading this page with nbviewer.org.</b></div><div class=\"sk-container\" hidden><div class=\"sk-item\"><div class=\"sk-estimator sk-toggleable\"><input class=\"sk-toggleable__control sk-hidden--visually\" id=\"sk-estimator-id-10\" type=\"checkbox\" checked><label for=\"sk-estimator-id-10\" class=\"sk-toggleable__label sk-toggleable__label-arrow\">PLSRegression</label><div class=\"sk-toggleable__content\"><pre>PLSRegression(n_components=5)</pre></div></div></div></div></div>"
      ],
      "text/plain": [
       "PLSRegression(n_components=5)"
      ]
     },
     "execution_count": 79,
     "metadata": {},
     "output_type": "execute_result"
    }
   ],
   "source": [
    "# 经过选择后得到的相关元素\n",
    "pls_model_to_J = PLSRegression(scale=True,n_components=5)\n",
    "pls_model_to_J.fit(data_J_match.iloc[:,0:8],data_J_match.iloc[:,-8:])"
   ]
  },
  {
   "cell_type": "code",
   "execution_count": null,
   "metadata": {},
   "outputs": [],
   "source": [
    "pred_J = pls_model_to_J.predict(data_J_match.iloc[:,0:8])"
   ]
  },
  {
   "cell_type": "code",
   "execution_count": 71,
   "metadata": {},
   "outputs": [],
   "source": [
    "# 铅钡预测数据准备\n",
    "data_Q_match = pd.read_excel(\"铅钡类用于预测.xlsx\")"
   ]
  },
  {
   "cell_type": "code",
   "execution_count": null,
   "metadata": {},
   "outputs": [],
   "source": [
    "pls_model_to_Q = PLSRegression(scale=True, n_components=5)\n",
    "pls_model_to_Q.fit(data_Q_match.iloc[:,1:7], data_Q_match.iloc[:,-6:])"
   ]
  },
  {
   "cell_type": "code",
   "execution_count": null,
   "metadata": {},
   "outputs": [],
   "source": [
    "# 预测结果\n",
    "pred_Q = pls_model_to_Q.predict(data_Q_match.iloc[:,1:7])"
   ]
  }
 ],
 "metadata": {
  "kernelspec": {
   "display_name": "Python 3.10.0 64-bit",
   "language": "python",
   "name": "python3"
  },
  "language_info": {
   "codemirror_mode": {
    "name": "ipython",
    "version": 3
   },
   "file_extension": ".py",
   "mimetype": "text/x-python",
   "name": "python",
   "nbconvert_exporter": "python",
   "pygments_lexer": "ipython3",
   "version": "3.10.0"
  },
  "orig_nbformat": 4,
  "vscode": {
   "interpreter": {
    "hash": "c040a702b832ff0913e13179ea7610807f61ebd7483f27db4f36432f764fcdb9"
   }
  }
 },
 "nbformat": 4,
 "nbformat_minor": 2
}
