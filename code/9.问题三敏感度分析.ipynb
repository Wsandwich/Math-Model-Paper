{
 "cells": [
  {
   "cell_type": "code",
   "execution_count": 3,
   "metadata": {},
   "outputs": [],
   "source": [
    "import numpy as np\n",
    "import pandas as pd\n",
    "import joblib"
   ]
  },
  {
   "cell_type": "code",
   "execution_count": 4,
   "metadata": {},
   "outputs": [],
   "source": [
    "# 加载高钾分类数据结构\n",
    "xgb_J = joblib.load('J_xgboost.joblib')\n",
    "\n",
    "# 加载铅钡分类数据结构\n",
    "xgb_Q = joblib.load('Q_xgboost.joblib')"
   ]
  },
  {
   "cell_type": "code",
   "execution_count": 5,
   "metadata": {},
   "outputs": [],
   "source": [
    "# 加载进行分类预测数据\n",
    "excel_for_ana = pd.ExcelFile('问题三预测数据处理后.xlsx')\n",
    "\n",
    "data_J_ana = pd.read_excel(excel_for_ana, \"高钾\")\n",
    "\n",
    "data_Q_ana = pd.read_excel(excel_for_ana, \"铅钡\")\n",
    "\n",
    "excel_for_ana.close()"
   ]
  },
  {
   "cell_type": "code",
   "execution_count": 6,
   "metadata": {},
   "outputs": [],
   "source": [
    "# 单纯用于获取J和Q的columns\n",
    "col_J = pd.read_excel(\"问题二将亚分类数据.xlsx\",sheet_name=\"高钾权重\")\n",
    "col_Q = pd.read_excel(\"问题二将亚分类数据.xlsx\",sheet_name=\"铅钡权重\")"
   ]
  },
  {
   "cell_type": "code",
   "execution_count": 7,
   "metadata": {},
   "outputs": [],
   "source": [
    "# 整理好后,用于xgb_J和xgb_Q敏感性分析\n",
    "data_J_ana_rea = data_J_ana[col_J.columns.values].copy()\n",
    "data_Q_ana_rea = data_Q_ana[col_Q.columns.values].copy()"
   ]
  },
  {
   "cell_type": "code",
   "execution_count": 49,
   "metadata": {},
   "outputs": [
    {
     "data": {
      "text/html": [
       "<div>\n",
       "<style scoped>\n",
       "    .dataframe tbody tr th:only-of-type {\n",
       "        vertical-align: middle;\n",
       "    }\n",
       "\n",
       "    .dataframe tbody tr th {\n",
       "        vertical-align: top;\n",
       "    }\n",
       "\n",
       "    .dataframe thead th {\n",
       "        text-align: right;\n",
       "    }\n",
       "</style>\n",
       "<table border=\"1\" class=\"dataframe\">\n",
       "  <thead>\n",
       "    <tr style=\"text-align: right;\">\n",
       "      <th></th>\n",
       "      <th>氧化钠(Na2O)</th>\n",
       "      <th>氧化钾(K2O)</th>\n",
       "      <th>氧化钙(CaO)</th>\n",
       "      <th>氧化铜(CuO)</th>\n",
       "      <th>氧化钡(BaO)</th>\n",
       "    </tr>\n",
       "  </thead>\n",
       "  <tbody>\n",
       "    <tr>\n",
       "      <th>0</th>\n",
       "      <td>0</td>\n",
       "      <td>0.00000</td>\n",
       "      <td>6.08000</td>\n",
       "      <td>2.11</td>\n",
       "      <td>0</td>\n",
       "    </tr>\n",
       "    <tr>\n",
       "      <th>1</th>\n",
       "      <td>0</td>\n",
       "      <td>9.19721</td>\n",
       "      <td>8.20808</td>\n",
       "      <td>1.73</td>\n",
       "      <td>0</td>\n",
       "    </tr>\n",
       "    <tr>\n",
       "      <th>2</th>\n",
       "      <td>0</td>\n",
       "      <td>9.95153</td>\n",
       "      <td>6.32273</td>\n",
       "      <td>1.17</td>\n",
       "      <td>0</td>\n",
       "    </tr>\n",
       "  </tbody>\n",
       "</table>\n",
       "</div>"
      ],
      "text/plain": [
       "   氧化钠(Na2O)  氧化钾(K2O)  氧化钙(CaO)  氧化铜(CuO)  氧化钡(BaO)\n",
       "0          0   0.00000   6.08000      2.11         0\n",
       "1          0   9.19721   8.20808      1.73         0\n",
       "2          0   9.95153   6.32273      1.17         0"
      ]
     },
     "execution_count": 49,
     "metadata": {},
     "output_type": "execute_result"
    }
   ],
   "source": [
    "data_J_ana_rea"
   ]
  },
  {
   "cell_type": "code",
   "execution_count": 8,
   "metadata": {},
   "outputs": [],
   "source": [
    "# 对每个成分逐步\n",
    "max_J = [3.38,14.52,7.1374988,4.73,10.6,1.97]\n",
    "max_Q = [7.92, 3.13, 40, 31.23, 4.76887]"
   ]
  },
  {
   "cell_type": "code",
   "execution_count": null,
   "metadata": {},
   "outputs": [],
   "source": [
    "9.3"
   ]
  },
  {
   "cell_type": "code",
   "execution_count": 50,
   "metadata": {},
   "outputs": [],
   "source": [
    "# 对于一组给出预测结果\n",
    "def pre_res_J(data):\n",
    "    return xgb_J.predict(data)"
   ]
  },
  {
   "cell_type": "code",
   "execution_count": 57,
   "metadata": {},
   "outputs": [],
   "source": [
    "def pre_res_Q(data):\n",
    "    return xgb_Q.predict(data)"
   ]
  },
  {
   "cell_type": "code",
   "execution_count": 68,
   "metadata": {},
   "outputs": [],
   "source": [
    "# 给出一组J的结果\n",
    "# ele给出是什么化学元素\n",
    "def pre_group_J(num, ele): \n",
    "    to_change = np.arange(0, max_J[ele], max_J[ele]/num) + max_J[ele]/num\n",
    "    res = pd.DataFrame(data=np.zeros((3, num)),columns=to_change)\n",
    "    for i in range(num):\n",
    "        data_temp = data_J_ana_rea.copy()\n",
    "        data_temp.iloc[:,ele] = to_change[i]\n",
    "        res.iloc[:,i] = pre_res_J(data_temp)\n",
    "    return res"
   ]
  },
  {
   "cell_type": "code",
   "execution_count": 69,
   "metadata": {},
   "outputs": [],
   "source": [
    "# 开始得出J的结果\n",
    "\n",
    "t_J = pd.ExcelWriter(\"问题三高钾的敏感性分析.xlsx\")\n",
    "for i in range(data_J_ana_rea.shape[1]):\n",
    "    temp = pre_group_J(20, i)\n",
    "    temp.to_excel(t_J, data_J_ana_rea.columns[i])\n",
    "\n",
    "t_J.save()\n",
    "t_J.close()\n"
   ]
  },
  {
   "cell_type": "code",
   "execution_count": 84,
   "metadata": {},
   "outputs": [],
   "source": [
    "# 给出一组Q的结果\n",
    "def pre_group_Q(num, ele):\n",
    "    if ele == 2:\n",
    "        to_change = np.arange(9.3, max_Q[ele], (max_Q[ele] - 9.3)/num) + (max_Q[ele] - 9.3)/num\n",
    "    else:\n",
    "        to_change = np.arange(0, max_Q[ele], max_Q[ele]/num) + max_Q[ele]/num\n",
    "    res = pd.DataFrame(data=np.zeros((5, num)),columns=to_change)\n",
    "    for i in range(num):\n",
    "        data_temp = data_Q_ana_rea.copy()\n",
    "        data_temp.iloc[:,ele] = to_change[i]\n",
    "        res.iloc[:,i] = pre_res_Q(data_temp)\n",
    "    return res"
   ]
  },
  {
   "cell_type": "code",
   "execution_count": 85,
   "metadata": {},
   "outputs": [],
   "source": [
    "# Q的结果\n",
    "t_Q = pd.ExcelWriter(\"问题三铅钡的敏感性分析.xlsx\")\n",
    "for i in range(data_Q_ana_rea.shape[1]):\n",
    "    temp = pre_group_Q(20, i)\n",
    "    temp.to_excel(t_Q, data_Q_ana_rea.columns[i])\n",
    "\n",
    "t_Q.save()\n",
    "t_Q.close()"
   ]
  }
 ],
 "metadata": {
  "kernelspec": {
   "display_name": "Python 3.10.0 64-bit",
   "language": "python",
   "name": "python3"
  },
  "language_info": {
   "codemirror_mode": {
    "name": "ipython",
    "version": 3
   },
   "file_extension": ".py",
   "mimetype": "text/x-python",
   "name": "python",
   "nbconvert_exporter": "python",
   "pygments_lexer": "ipython3",
   "version": "3.10.0"
  },
  "orig_nbformat": 4,
  "vscode": {
   "interpreter": {
    "hash": "c040a702b832ff0913e13179ea7610807f61ebd7483f27db4f36432f764fcdb9"
   }
  }
 },
 "nbformat": 4,
 "nbformat_minor": 2
}
