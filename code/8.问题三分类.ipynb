{
 "cells": [
  {
   "cell_type": "code",
   "execution_count": 76,
   "metadata": {},
   "outputs": [],
   "source": [
    "# 引入数据处理包\n",
    "import numpy as np\n",
    "import pandas as pd\n",
    "\n",
    "# 机器学习\n",
    "from xgboost import XGBClassifier\n",
    "from sklearn.model_selection import train_test_split\n",
    "from sklearn.metrics import classification_report\n",
    "from sklearn.metrics import f1_score, recall_score,precision_score\n",
    "\n",
    "# 进行相关模型的保存\n",
    "import joblib"
   ]
  },
  {
   "cell_type": "code",
   "execution_count": 77,
   "metadata": {},
   "outputs": [],
   "source": [
    "# 表单3预测数据导入\n",
    "data_toPre = pd.read_excel(\"附件.xlsx\",sheet_name=\"表单3\")"
   ]
  },
  {
   "cell_type": "code",
   "execution_count": 78,
   "metadata": {},
   "outputs": [
    {
     "data": {
      "text/html": [
       "<div>\n",
       "<style scoped>\n",
       "    .dataframe tbody tr th:only-of-type {\n",
       "        vertical-align: middle;\n",
       "    }\n",
       "\n",
       "    .dataframe tbody tr th {\n",
       "        vertical-align: top;\n",
       "    }\n",
       "\n",
       "    .dataframe thead th {\n",
       "        text-align: right;\n",
       "    }\n",
       "</style>\n",
       "<table border=\"1\" class=\"dataframe\">\n",
       "  <thead>\n",
       "    <tr style=\"text-align: right;\">\n",
       "      <th></th>\n",
       "      <th>文物编号</th>\n",
       "      <th>表面风化</th>\n",
       "      <th>二氧化硅(SiO2)</th>\n",
       "      <th>氧化钠(Na2O)</th>\n",
       "      <th>氧化钾(K2O)</th>\n",
       "      <th>氧化钙(CaO)</th>\n",
       "      <th>氧化镁(MgO)</th>\n",
       "      <th>氧化铝(Al2O3)</th>\n",
       "      <th>氧化铁(Fe2O3)</th>\n",
       "      <th>氧化铜(CuO)</th>\n",
       "      <th>氧化铅(PbO)</th>\n",
       "      <th>氧化钡(BaO)</th>\n",
       "      <th>五氧化二磷(P2O5)</th>\n",
       "      <th>氧化锶(SrO)</th>\n",
       "      <th>氧化锡(SnO2)</th>\n",
       "      <th>二氧化硫(SO2)</th>\n",
       "    </tr>\n",
       "  </thead>\n",
       "  <tbody>\n",
       "    <tr>\n",
       "      <th>0</th>\n",
       "      <td>A1</td>\n",
       "      <td>无风化</td>\n",
       "      <td>78.45</td>\n",
       "      <td>0.0</td>\n",
       "      <td>0.0</td>\n",
       "      <td>6.08</td>\n",
       "      <td>1.86</td>\n",
       "      <td>7.23</td>\n",
       "      <td>2.15</td>\n",
       "      <td>2.11</td>\n",
       "      <td>0.0</td>\n",
       "      <td>0.0</td>\n",
       "      <td>1.06</td>\n",
       "      <td>0.03</td>\n",
       "      <td>0.0</td>\n",
       "      <td>0.51</td>\n",
       "    </tr>\n",
       "    <tr>\n",
       "      <th>1</th>\n",
       "      <td>A2</td>\n",
       "      <td>风化</td>\n",
       "      <td>37.75</td>\n",
       "      <td>0.0</td>\n",
       "      <td>0.0</td>\n",
       "      <td>7.63</td>\n",
       "      <td>0.00</td>\n",
       "      <td>2.33</td>\n",
       "      <td>0.00</td>\n",
       "      <td>0.00</td>\n",
       "      <td>34.3</td>\n",
       "      <td>0.0</td>\n",
       "      <td>14.27</td>\n",
       "      <td>0.00</td>\n",
       "      <td>0.0</td>\n",
       "      <td>0.00</td>\n",
       "    </tr>\n",
       "  </tbody>\n",
       "</table>\n",
       "</div>"
      ],
      "text/plain": [
       "  文物编号 表面风化  二氧化硅(SiO2)  氧化钠(Na2O)  氧化钾(K2O)  氧化钙(CaO)  氧化镁(MgO)  氧化铝(Al2O3)  \\\n",
       "0   A1  无风化       78.45        0.0       0.0      6.08      1.86        7.23   \n",
       "1   A2   风化       37.75        0.0       0.0      7.63      0.00        2.33   \n",
       "\n",
       "   氧化铁(Fe2O3)  氧化铜(CuO)  氧化铅(PbO)  氧化钡(BaO)  五氧化二磷(P2O5)  氧化锶(SrO)  氧化锡(SnO2)  \\\n",
       "0        2.15      2.11       0.0       0.0         1.06      0.03        0.0   \n",
       "1        0.00      0.00      34.3       0.0        14.27      0.00        0.0   \n",
       "\n",
       "   二氧化硫(SO2)  \n",
       "0       0.51  \n",
       "1       0.00  "
      ]
     },
     "execution_count": 78,
     "metadata": {},
     "output_type": "execute_result"
    }
   ],
   "source": [
    "# 填补缺失数据\n",
    "data_toPre.fillna(0,inplace=True)\n",
    "data_toPre.head(2)"
   ]
  },
  {
   "cell_type": "code",
   "execution_count": 79,
   "metadata": {},
   "outputs": [
    {
     "name": "stdout",
     "output_type": "stream",
     "text": [
      "0    99.48\n",
      "1    96.28\n",
      "2    98.98\n",
      "3    96.00\n",
      "4    99.62\n",
      "5    99.10\n",
      "6    99.64\n",
      "7    99.98\n",
      "dtype: float64\n",
      "0\n"
     ]
    }
   ],
   "source": [
    "# 对数据进行85-105检查\n",
    "sum_ele = data_toPre.iloc[:,2:16].sum(axis=1)\n",
    "print(sum_ele)\n",
    "print(data_toPre[(sum_ele < 85) & (sum_ele > 105)].shape[0])"
   ]
  },
  {
   "cell_type": "code",
   "execution_count": 80,
   "metadata": {},
   "outputs": [
    {
     "data": {
      "text/html": [
       "<div>\n",
       "<style scoped>\n",
       "    .dataframe tbody tr th:only-of-type {\n",
       "        vertical-align: middle;\n",
       "    }\n",
       "\n",
       "    .dataframe tbody tr th {\n",
       "        vertical-align: top;\n",
       "    }\n",
       "\n",
       "    .dataframe thead th {\n",
       "        text-align: right;\n",
       "    }\n",
       "</style>\n",
       "<table border=\"1\" class=\"dataframe\">\n",
       "  <thead>\n",
       "    <tr style=\"text-align: right;\">\n",
       "      <th></th>\n",
       "      <th>文物编号</th>\n",
       "      <th>表面风化</th>\n",
       "      <th>二氧化硅(SiO2)</th>\n",
       "      <th>氧化钠(Na2O)</th>\n",
       "      <th>氧化钾(K2O)</th>\n",
       "      <th>氧化钙(CaO)</th>\n",
       "      <th>氧化镁(MgO)</th>\n",
       "      <th>氧化铝(Al2O3)</th>\n",
       "      <th>氧化铁(Fe2O3)</th>\n",
       "      <th>氧化铜(CuO)</th>\n",
       "      <th>氧化铅(PbO)</th>\n",
       "      <th>氧化钡(BaO)</th>\n",
       "      <th>五氧化二磷(P2O5)</th>\n",
       "      <th>氧化锶(SrO)</th>\n",
       "      <th>氧化锡(SnO2)</th>\n",
       "      <th>二氧化硫(SO2)</th>\n",
       "    </tr>\n",
       "  </thead>\n",
       "  <tbody>\n",
       "    <tr>\n",
       "      <th>1</th>\n",
       "      <td>A2</td>\n",
       "      <td>风化</td>\n",
       "      <td>37.75</td>\n",
       "      <td>0.0</td>\n",
       "      <td>0.00</td>\n",
       "      <td>7.63</td>\n",
       "      <td>0.00</td>\n",
       "      <td>2.33</td>\n",
       "      <td>0.00</td>\n",
       "      <td>0.00</td>\n",
       "      <td>34.30</td>\n",
       "      <td>0.00</td>\n",
       "      <td>14.27</td>\n",
       "      <td>0.00</td>\n",
       "      <td>0.00</td>\n",
       "      <td>0.00</td>\n",
       "    </tr>\n",
       "    <tr>\n",
       "      <th>2</th>\n",
       "      <td>A3</td>\n",
       "      <td>无风化</td>\n",
       "      <td>31.95</td>\n",
       "      <td>0.0</td>\n",
       "      <td>1.36</td>\n",
       "      <td>7.19</td>\n",
       "      <td>0.81</td>\n",
       "      <td>2.93</td>\n",
       "      <td>7.06</td>\n",
       "      <td>0.21</td>\n",
       "      <td>39.58</td>\n",
       "      <td>4.69</td>\n",
       "      <td>2.68</td>\n",
       "      <td>0.52</td>\n",
       "      <td>0.00</td>\n",
       "      <td>0.00</td>\n",
       "    </tr>\n",
       "    <tr>\n",
       "      <th>3</th>\n",
       "      <td>A4</td>\n",
       "      <td>无风化</td>\n",
       "      <td>35.47</td>\n",
       "      <td>0.0</td>\n",
       "      <td>0.79</td>\n",
       "      <td>2.89</td>\n",
       "      <td>1.05</td>\n",
       "      <td>7.07</td>\n",
       "      <td>6.45</td>\n",
       "      <td>0.96</td>\n",
       "      <td>24.28</td>\n",
       "      <td>8.31</td>\n",
       "      <td>8.45</td>\n",
       "      <td>0.28</td>\n",
       "      <td>0.00</td>\n",
       "      <td>0.00</td>\n",
       "    </tr>\n",
       "    <tr>\n",
       "      <th>4</th>\n",
       "      <td>A5</td>\n",
       "      <td>风化</td>\n",
       "      <td>64.29</td>\n",
       "      <td>1.2</td>\n",
       "      <td>0.37</td>\n",
       "      <td>1.64</td>\n",
       "      <td>2.34</td>\n",
       "      <td>12.75</td>\n",
       "      <td>0.81</td>\n",
       "      <td>0.94</td>\n",
       "      <td>12.23</td>\n",
       "      <td>2.16</td>\n",
       "      <td>0.19</td>\n",
       "      <td>0.21</td>\n",
       "      <td>0.49</td>\n",
       "      <td>0.00</td>\n",
       "    </tr>\n",
       "    <tr>\n",
       "      <th>7</th>\n",
       "      <td>A8</td>\n",
       "      <td>无风化</td>\n",
       "      <td>51.12</td>\n",
       "      <td>0.0</td>\n",
       "      <td>0.23</td>\n",
       "      <td>0.89</td>\n",
       "      <td>0.00</td>\n",
       "      <td>2.12</td>\n",
       "      <td>0.00</td>\n",
       "      <td>9.01</td>\n",
       "      <td>21.24</td>\n",
       "      <td>11.34</td>\n",
       "      <td>1.46</td>\n",
       "      <td>0.31</td>\n",
       "      <td>0.00</td>\n",
       "      <td>2.26</td>\n",
       "    </tr>\n",
       "  </tbody>\n",
       "</table>\n",
       "</div>"
      ],
      "text/plain": [
       "  文物编号 表面风化  二氧化硅(SiO2)  氧化钠(Na2O)  氧化钾(K2O)  氧化钙(CaO)  氧化镁(MgO)  氧化铝(Al2O3)  \\\n",
       "1   A2   风化       37.75        0.0      0.00      7.63      0.00        2.33   \n",
       "2   A3  无风化       31.95        0.0      1.36      7.19      0.81        2.93   \n",
       "3   A4  无风化       35.47        0.0      0.79      2.89      1.05        7.07   \n",
       "4   A5   风化       64.29        1.2      0.37      1.64      2.34       12.75   \n",
       "7   A8  无风化       51.12        0.0      0.23      0.89      0.00        2.12   \n",
       "\n",
       "   氧化铁(Fe2O3)  氧化铜(CuO)  氧化铅(PbO)  氧化钡(BaO)  五氧化二磷(P2O5)  氧化锶(SrO)  氧化锡(SnO2)  \\\n",
       "1        0.00      0.00     34.30      0.00        14.27      0.00       0.00   \n",
       "2        7.06      0.21     39.58      4.69         2.68      0.52       0.00   \n",
       "3        6.45      0.96     24.28      8.31         8.45      0.28       0.00   \n",
       "4        0.81      0.94     12.23      2.16         0.19      0.21       0.49   \n",
       "7        0.00      9.01     21.24     11.34         1.46      0.31       0.00   \n",
       "\n",
       "   二氧化硫(SO2)  \n",
       "1       0.00  \n",
       "2       0.00  \n",
       "3       0.00  \n",
       "4       0.00  \n",
       "7       2.26  "
      ]
     },
     "execution_count": 80,
     "metadata": {},
     "output_type": "execute_result"
    }
   ],
   "source": [
    "# 进行高钾与铅钡玻璃的划分\n",
    "# 这里的判断并不是分类\n",
    "# 是已经用spss分类后，这里简单的将其区分开\n",
    "data_J_pre = data_toPre[data_toPre[\"氧化铅(PbO)\"] <= 6].copy()\n",
    "data_Q_pre = data_toPre[data_toPre[\"氧化铅(PbO)\"] >= 6].copy()\n",
    "data_Q_pre"
   ]
  },
  {
   "cell_type": "code",
   "execution_count": 81,
   "metadata": {},
   "outputs": [],
   "source": [
    "part_J = [\"文物编号\",\"表面风化\",\"二氧化硅(SiO2)\",\"氧化钾(K2O)\",\"氧化钙(CaO)\",\"氧化铝(Al2O3)\",\"氧化镁(MgO)\",\"氧化铁(Fe2O3)\",\"氧化铅(PbO)\",\"五氧化二磷(P2O5)\"]\n",
    "\n",
    "part_Q = [\"文物编号\",\"表面风化\",\"二氧化硅(SiO2)\",\"氧化钠(Na2O)\",\"氧化钙(CaO)\",\"氧化铝(Al2O3)\",\"氧化铅(PbO)\",\"五氧化二磷(P2O5)\"]"
   ]
  },
  {
   "cell_type": "code",
   "execution_count": 82,
   "metadata": {},
   "outputs": [],
   "source": [
    "# 保存分类后的数据在excel表中\n",
    "# 在excel结合问题一进行数据的风化前处理\n",
    "\n",
    "excel_pre = pd.ExcelWriter(\"问题三预测数据_风化-未风化.xlsx\")\n",
    "\n",
    "data_J_pre_n = data_J_pre[part_J].copy()\n",
    "\n",
    "data_Q_pre_n = data_Q_pre[part_Q].copy()\n",
    "\n",
    "data_J_pre_n[data_J_pre_n[\"表面风化\"]==\"风化\"].to_excel(excel_pre, \"高钾_风化\")\n",
    "\n",
    "data_Q_pre_n[data_Q_pre_n[\"表面风化\"]==\"风化\"].to_excel(excel_pre, \"铅钡_风化\")\n",
    "\n",
    "excel_pre.save()\n",
    "excel_pre.close()"
   ]
  },
  {
   "cell_type": "code",
   "execution_count": 83,
   "metadata": {},
   "outputs": [],
   "source": [
    "# 引入未风化预测，整理后的数据\n",
    "\n",
    "excel_get_aft = pd.ExcelFile(\"问题三预测数据处理后.xlsx\")\n",
    "\n",
    "data_J_rea = pd.read_excel(excel_get_aft, \"高钾\")\n",
    "data_Q_rea = pd.read_excel(excel_get_aft, \"铅钡\")\n",
    "\n",
    "excel_get_aft.close()"
   ]
  },
  {
   "cell_type": "code",
   "execution_count": 84,
   "metadata": {},
   "outputs": [],
   "source": [
    "# 引入训练数据\n",
    "data_J_toR = pd.read_excel(\"问题二聚类结果.xlsx\",sheet_name=\"高钾\",index_col=0)\n",
    "data_Q_toR = pd.read_excel(\"问题二聚类结果.xlsx\",sheet_name=\"铅钡\",index_col=0)\n",
    "data_J_col = pd.read_excel(\"问题二将亚分类数据.xlsx\",sheet_name=\"高钾权重\")\n",
    "data_Q_col = pd.read_excel(\"问题二将亚分类数据.xlsx\",sheet_name=\"铅钡权重\")"
   ]
  },
  {
   "cell_type": "code",
   "execution_count": 85,
   "metadata": {},
   "outputs": [],
   "source": [
    "J_need = np.append(data_J_col.columns.values,\"k-means_label\")\n",
    "Q_need = np.append(data_Q_col.columns.values,\"k-means_label\")"
   ]
  },
  {
   "cell_type": "code",
   "execution_count": 86,
   "metadata": {},
   "outputs": [],
   "source": [
    "# 选择出问题二中的分类特征进行分类\n",
    "data_J_toR_af = data_J_toR[J_need].copy()\n",
    "data_Q_toR_af = data_Q_toR[Q_need].copy()"
   ]
  },
  {
   "cell_type": "code",
   "execution_count": 87,
   "metadata": {},
   "outputs": [],
   "source": [
    "# 用于进行给出附件3用于中结果\n",
    "data_J_rea_to = data_J_rea[data_J_col.columns.values]\n",
    "data_Q_rea_to = data_Q_rea[data_Q_col.columns.values]"
   ]
  },
  {
   "cell_type": "code",
   "execution_count": 88,
   "metadata": {},
   "outputs": [
    {
     "name": "stdout",
     "output_type": "stream",
     "text": [
      "[14:16:59] WARNING: C:/Users/administrator/workspace/xgboost-win64_release_1.6.0/src/learner.cc:627: \n",
      "Parameters: { \"boosting\" } might not be used.\n",
      "\n",
      "  This could be a false alarm, with some parameters getting used by language bindings but\n",
      "  then being mistakenly passed down to XGBoost core, or some parameter actually being used\n",
      "  but getting flagged wrongly here. Please open an issue if you find any such cases.\n",
      "\n",
      "\n",
      "              precision    recall  f1-score   support\n",
      "\n",
      "           0       1.00      1.00      1.00         1\n",
      "           1       1.00      1.00      1.00         3\n",
      "           2       1.00      1.00      1.00         1\n",
      "\n",
      "    accuracy                           1.00         5\n",
      "   macro avg       1.00      1.00      1.00         5\n",
      "weighted avg       1.00      1.00      1.00         5\n",
      "\n"
     ]
    }
   ],
   "source": [
    "# 进行高钾的多分类的训练与预测\n",
    "x_train_J, x_test_J, y_train_J, y_test_J = train_test_split(data_J_toR_af.iloc[:,:-1],\n",
    "                                                    data_J_toR_af.iloc[:,-1],\n",
    "                                                    test_size=0.3,random_state=2)\n",
    "\n",
    "\n",
    "xgb_J_ = XGBClassifier(\n",
    "  num_class=3, learning_rate=0.1, max_depth=10, \n",
    "  objective='multi:softmax',min_child_weight=0,\n",
    "  boosting='gbdt',alpha = 1,\n",
    ")\n",
    "\n",
    "xgb_J_.fit(x_train_J, y_train_J)\n",
    "\n",
    "pre_y_test_J = xgb_J_.predict(x_test_J)\n",
    "print(classification_report(y_test_J, pre_y_test_J))"
   ]
  },
  {
   "cell_type": "code",
   "execution_count": 89,
   "metadata": {},
   "outputs": [
    {
     "data": {
      "text/plain": [
       "['J_xgboost.joblib']"
      ]
     },
     "execution_count": 89,
     "metadata": {},
     "output_type": "execute_result"
    }
   ],
   "source": [
    "joblib.dump(xgb_J_, \"J_xgboost.joblib\")"
   ]
  },
  {
   "cell_type": "code",
   "execution_count": 90,
   "metadata": {},
   "outputs": [],
   "source": [
    "J_preRes = xgb_J_.predict(data_J_rea_to)"
   ]
  },
  {
   "cell_type": "code",
   "execution_count": 91,
   "metadata": {},
   "outputs": [
    {
     "name": "stdout",
     "output_type": "stream",
     "text": [
      "[0 0 1]\n"
     ]
    }
   ],
   "source": [
    "data_J_res = data_J_rea.copy()\n",
    "print(J_preRes)\n",
    "data_J_res[\"分类预测结果\"] = J_preRes"
   ]
  },
  {
   "cell_type": "code",
   "execution_count": 65,
   "metadata": {},
   "outputs": [],
   "source": [
    "# 进行bayes调参\n",
    "# 贝叶斯调参\n",
    "from bayes_opt import BayesianOptimization\n",
    "from sklearn.model_selection import cross_val_score\n",
    "\n",
    "def xgb_cv(max_depth, learning_rate, n_estimators, min_child_weight, subsample, colsample_bytree, reg_alpha, gamma):\n",
    "    val = cross_val_score(estimator=XGBClassifier(max_depth=int(max_depth),\n",
    "                                                 learning_rate=learning_rate,\n",
    "                                                 n_estimators=int(n_estimators),\n",
    "                                                 min_child_weight=min_child_weight,\n",
    "                                                #  subsample=max(min(subsample, 1), 0),\n",
    "                                                #  colsample_bytree=max(min(colsample_bytree, 1), 0),\n",
    "                                                 reg_alpha=max(reg_alpha, 0), gamma=gamma,\n",
    "                                                 booster='gbtree',\n",
    "                                                 objective='multi:softmax',\n",
    "                                                 num_class=4,\n",
    "                                                 seed=2022), X=data_Q_toR_af.iloc[:,:-1], y=data_Q_toR_af.iloc[:,-1], scoring=\"f1_macro\",\n",
    "                          cv=5).mean()\n",
    "    return val"
   ]
  },
  {
   "cell_type": "code",
   "execution_count": null,
   "metadata": {},
   "outputs": [],
   "source": [
    "xgb_bo = BayesianOptimization(xgb_cv, pbounds={'max_depth': (1, 10),\n",
    "                                               'learning_rate': (0.01, 0.2),\n",
    "                                               'n_estimators': (1, 100),\n",
    "                                               'min_child_weight': (0, 15),\n",
    "                                               'subsample': (0.001, 1),\n",
    "                                               'colsample_bytree': (0.01, 1),\n",
    "                                               'reg_alpha': (0.001, 10),\n",
    "                                               'gamma': (0.001, 10)})\n",
    "xgb_bo.maximize(n_iter=100, init_points=1000)"
   ]
  },
  {
   "cell_type": "code",
   "execution_count": 92,
   "metadata": {},
   "outputs": [
    {
     "data": {
      "text/plain": [
       "{'target': 0.8261111111111111,\n",
       " 'params': {'colsample_bytree': 0.10717903008046993,\n",
       "  'gamma': 1.3191334532614911,\n",
       "  'learning_rate': 0.17570002098068568,\n",
       "  'max_depth': 9.365468069404896,\n",
       "  'min_child_weight': 0.638013869379338,\n",
       "  'n_estimators': 45.44870538575994,\n",
       "  'reg_alpha': 0.601387103422647,\n",
       "  'subsample': 0.7204545920421104}}"
      ]
     },
     "execution_count": 92,
     "metadata": {},
     "output_type": "execute_result"
    }
   ],
   "source": [
    "xgb_bo.max"
   ]
  },
  {
   "cell_type": "code",
   "execution_count": 93,
   "metadata": {},
   "outputs": [
    {
     "data": {
      "text/plain": [
       "0.8261111111111111"
      ]
     },
     "execution_count": 93,
     "metadata": {},
     "output_type": "execute_result"
    }
   ],
   "source": [
    "# xgboost_f1\n",
    "res_xgb_best = cross_val_score(estimator=XGBClassifier(max_depth=9,\n",
    "                                        learning_rate=0.17570002098068568,\n",
    "                                        n_estimators=45,\n",
    "                                        min_child_weight=0.638013869379338,\n",
    "                                        reg_alpha=max(0.601387103422647, 0), gamma=1.3191334532614911,\n",
    "                                        booster='gbtree',\n",
    "                                        objective='multi:softmax',\n",
    "                                        num_class=4,\n",
    "                                        seed=2022), X=data_Q_toR_af.iloc[:,:-1], y=data_Q_toR_af.iloc[:,-1], scoring=\"f1_macro\",\n",
    "                          cv=5).mean()\n",
    "res_xgb_best"
   ]
  },
  {
   "cell_type": "code",
   "execution_count": 94,
   "metadata": {},
   "outputs": [
    {
     "name": "stdout",
     "output_type": "stream",
     "text": [
      "              precision    recall  f1-score   support\n",
      "\n",
      "           0       1.00      1.00      1.00         1\n",
      "           1       0.00      0.00      0.00         2\n",
      "           2       0.67      1.00      0.80         4\n",
      "           3       1.00      1.00      1.00         5\n",
      "\n",
      "    accuracy                           0.83        12\n",
      "   macro avg       0.67      0.75      0.70        12\n",
      "weighted avg       0.72      0.83      0.77        12\n",
      "\n"
     ]
    },
    {
     "name": "stderr",
     "output_type": "stream",
     "text": [
      "D:\\justwork\\Python\\Python310\\Lib\\site-packages\\sklearn\\metrics\\_classification.py:1334: UndefinedMetricWarning: Precision and F-score are ill-defined and being set to 0.0 in labels with no predicted samples. Use `zero_division` parameter to control this behavior.\n",
      "  _warn_prf(average, modifier, msg_start, len(result))\n",
      "D:\\justwork\\Python\\Python310\\Lib\\site-packages\\sklearn\\metrics\\_classification.py:1334: UndefinedMetricWarning: Precision and F-score are ill-defined and being set to 0.0 in labels with no predicted samples. Use `zero_division` parameter to control this behavior.\n",
      "  _warn_prf(average, modifier, msg_start, len(result))\n",
      "D:\\justwork\\Python\\Python310\\Lib\\site-packages\\sklearn\\metrics\\_classification.py:1334: UndefinedMetricWarning: Precision and F-score are ill-defined and being set to 0.0 in labels with no predicted samples. Use `zero_division` parameter to control this behavior.\n",
      "  _warn_prf(average, modifier, msg_start, len(result))\n"
     ]
    }
   ],
   "source": [
    "# 进行铅钡的多分类的训练与预测\n",
    "x_train_Q, x_test_Q, y_train_Q, y_test_Q = train_test_split(data_Q_toR_af.iloc[:,:-1],\n",
    "                                                    data_Q_toR_af.iloc[:,-1],\n",
    "                                                    test_size=0.3,random_state=1)\n",
    "\n",
    "\n",
    "xgb_Q_ = XGBClassifier(\n",
    "  # num_class=4, learning_rate=0.1, max_depth=10, \n",
    "  # objective='multi:softmax',min_child_weight=0,\n",
    "  # boosting='gbtree'\n",
    "  max_depth=9,\n",
    "  learning_rate=0.17570002098068568,\n",
    "  n_estimators=45,\n",
    "  min_child_weight=0.638013869379338,\n",
    "  reg_alpha=max(0.601387103422647, 0), gamma=1.3191334532614911,\n",
    "  booster='gbtree',\n",
    "  objective='multi:softmax',\n",
    "  num_class=4,\n",
    ")\n",
    "\n",
    "xgb_Q_.fit(x_train_Q, y_train_Q)\n",
    "\n",
    "pre_y_test_Q  = xgb_Q_.predict(x_test_Q)\n",
    "print(classification_report(y_test_Q, pre_y_test_Q))"
   ]
  },
  {
   "cell_type": "code",
   "execution_count": 95,
   "metadata": {},
   "outputs": [
    {
     "data": {
      "text/plain": [
       "['Q_xgboost.joblib']"
      ]
     },
     "execution_count": 95,
     "metadata": {},
     "output_type": "execute_result"
    }
   ],
   "source": [
    "joblib.dump(xgb_Q_, \"Q_xgboost.joblib\")"
   ]
  },
  {
   "cell_type": "code",
   "execution_count": 223,
   "metadata": {},
   "outputs": [
    {
     "data": {
      "text/plain": [
       "array([3, 3, 3, 2, 3])"
      ]
     },
     "execution_count": 223,
     "metadata": {},
     "output_type": "execute_result"
    }
   ],
   "source": [
    "Q_preRes = xgb_Q_.predict(data_Q_rea_to)\n",
    "Q_preRes"
   ]
  },
  {
   "cell_type": "code",
   "execution_count": 224,
   "metadata": {},
   "outputs": [
    {
     "name": "stdout",
     "output_type": "stream",
     "text": [
      "[3 3 3 2 3]\n"
     ]
    }
   ],
   "source": [
    "data_Q_res = data_Q_rea.copy()\n",
    "print(Q_preRes)\n",
    "data_Q_res[\"分类预测结果\"] = Q_preRes"
   ]
  },
  {
   "cell_type": "code",
   "execution_count": 226,
   "metadata": {},
   "outputs": [],
   "source": [
    "pre_Q3 = pd.ExcelWriter(\"问题三预测结果.xlsx\")\n",
    "\n",
    "data_J_res.to_excel(pre_Q3, \"高钾\")\n",
    "data_Q_res.to_excel(pre_Q3, \"铅钡\")\n",
    "pre_Q3.save()\n",
    "pre_Q3.close()"
   ]
  },
  {
   "cell_type": "code",
   "execution_count": 75,
   "metadata": {},
   "outputs": [
    {
     "name": "stdout",
     "output_type": "stream",
     "text": [
      "0.5822619047619048\n",
      "0.756547619047619\n"
     ]
    }
   ],
   "source": [
    "# 与其他算法进行对比\n",
    "#  与adaboost算法对比\n",
    "from sklearn.ensemble import AdaBoostClassifier\n",
    "#  与随机森林算法进行对比\n",
    "from sklearn.ensemble import RandomForestClassifier\n",
    "res_ada = cross_val_score(estimator=AdaBoostClassifier(random_state=2022), \n",
    "                X=data_Q_toR_af.iloc[:,:-1], y=data_Q_toR_af.iloc[:,-1], scoring=\"f1_macro\",\n",
    "                cv=5).mean()\n",
    "\n",
    "print(res_ada)\n",
    "res_rf = cross_val_score(estimator=RandomForestClassifier(random_state=2022), \n",
    "                X=data_Q_toR_af.iloc[:,:-1], y=data_Q_toR_af.iloc[:,-1], scoring=\"f1_macro\",\n",
    "                cv=5).mean()\n",
    "\n",
    "print(res_rf)"
   ]
  }
 ],
 "metadata": {
  "kernelspec": {
   "display_name": "Python 3.10.0 64-bit",
   "language": "python",
   "name": "python3"
  },
  "language_info": {
   "codemirror_mode": {
    "name": "ipython",
    "version": 3
   },
   "file_extension": ".py",
   "mimetype": "text/x-python",
   "name": "python",
   "nbconvert_exporter": "python",
   "pygments_lexer": "ipython3",
   "version": "3.10.0"
  },
  "orig_nbformat": 4,
  "vscode": {
   "interpreter": {
    "hash": "c040a702b832ff0913e13179ea7610807f61ebd7483f27db4f36432f764fcdb9"
   }
  }
 },
 "nbformat": 4,
 "nbformat_minor": 2
}
